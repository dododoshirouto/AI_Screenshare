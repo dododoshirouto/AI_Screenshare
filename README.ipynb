{
 "cells": [
  {
   "cell_type": "markdown",
   "metadata": {},
   "source": [
    "# AI Screenshare Test 01\n",
    "\n",
    "## 概要\n",
    "\n",
    "- PCの画面を定期的にChatGPTに送信し、アドバイスや雑談をしてくれる\n",
    "\n",
    "### 処理の流れ\n",
    "\n",
    "1. PC画面を定期的にキャプチャする\n",
    "2. キャプチャした画像をChatGPTに送信する\n",
    "3. ChatGPTからの回答を受信する\n",
    "4. 回答を表示する\n",
    "\n",
    "## 使用するライブラリ\n",
    "\n",
    "- python=3.12.8\n",
    "\n",
    "モジュールは`requirments.txt`を参照してください\n",
    "\n",
    "## Tooltop\n",
    "\n",
    "### ChatGPT の APIキーページ\n",
    "\n",
    "[ChatGPT の APIキーページ](https://platform.openai.com/api-keys)\n",
    "\n",
    "`.evn`ファイルを作成し、`OPENAI_API_KEY`を設定する\n",
    "\n",
    "```env\n",
    "OPENAI_API_KEY=ここにAPIキー\n",
    "```"
   ]
  },
  {
   "cell_type": "markdown",
   "metadata": {},
   "source": [
    "## Installation"
   ]
  },
  {
   "cell_type": "markdown",
   "metadata": {},
   "source": [
    "### 仮想環境の有効化\n",
    "\n",
    "```bash\n",
    "IF NOT EXIST venv (\n",
    "    python -m venv venv\n",
    ")\n",
    "IF NOT EXIST activate.bat (\n",
    "    echo venv/Scripts/activate > activate.bat\n",
    ")\n",
    "IF NOT EXIST install.bat (\n",
    "    echo pip install -r requirements.txt > install.bat\n",
    ")\n",
    "\n",
    "```"
   ]
  },
  {
   "cell_type": "markdown",
   "metadata": {},
   "source": [
    "### Jupyter Notebookでvenvを有効にする\n",
    "\n",
    "```bash\n",
    "activate.bat\n",
    "pip install ipykernel\n",
    "python -m ipykernel install --user --name ai_screenshhare_test01\n",
    "\n",
    "```"
   ]
  },
  {
   "cell_type": "markdown",
   "metadata": {},
   "source": [
    "### voicevox_coreのダウンロード\n",
    "\n",
    "```bash\n",
    "# voicevox-download-windows-x64.exe --device cuda -v 0.15.4 -o ./\n",
    "voicevox-download-windows-x64.exe -v 0.15.4 -o ./\n",
    "```"
   ]
  }
 ],
 "metadata": {
  "kernelspec": {
   "display_name": "venv",
   "language": "python",
   "name": "python3"
  },
  "language_info": {
   "codemirror_mode": {
    "name": "ipython",
    "version": 3
   },
   "file_extension": ".py",
   "mimetype": "text/x-python",
   "name": "python",
   "nbconvert_exporter": "python",
   "pygments_lexer": "ipython3",
   "version": "3.12.8"
  }
 },
 "nbformat": 4,
 "nbformat_minor": 2
}
